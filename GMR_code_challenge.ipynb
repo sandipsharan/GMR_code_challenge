{
  "cells": [
    {
      "cell_type": "markdown",
      "id": "927cca99",
      "metadata": {
        "deletable": false,
        "editable": false,
        "id": "927cca99"
      },
      "source": [
        "# TSP Genetic Algorithm"
      ]
    },
    {
      "cell_type": "markdown",
      "id": "1549a90e",
      "metadata": {
        "id": "1549a90e"
      },
      "source": [
        "## Problem Statement\n",
        "\n",
        "You are given a list of destinations in Los Angeles along with their latitude and longitude (in degrees). Your goal is to visit all the destinations and return to your starting location efficiently (as defined by an objective function that we will specify and you will implement). The first location in the list read in from the text file is LAX, which will be your starting and finishing location.\n",
        "\n",
        "You may recognize this problem setup as the Traveling Salesman Problem which is NP-Hard. You may be able to design an algorithm (i.e. brute force) for the list of locations we give you that computes the globally optimal solution and that has a tractible runtime. However, that algorithm won't scale.\n",
        "\n",
        "Just because we can't find optimal solutions to problems like this doesn't mean we can disregard them. Real-world problems frequently map to setups like TSP, so different algorithmic strategies to tackle them have emerged, including genetic algorithms (also approximation algorithms, annealing, etc...)\n",
        "\n",
        "Your challenge is to implement and assemble the components of a genetic algorithm which can be used to provide \"good\" albeit not optimal solutions for efficiently traversing our graph of Los Angeles."
      ]
    },
    {
      "cell_type": "markdown",
      "id": "8831b836",
      "metadata": {
        "deletable": false,
        "editable": false,
        "id": "8831b836"
      },
      "source": [
        "## Genetic Algorithms Overview\n",
        "\n",
        "Genetic Algorithms are a method for solving optimization problems based on natural selection. It tracks pretty closely to the tenets of Darwinism. In Darwinism, given some variation in genetic traits for some population, the members of that species with desirable genetic traits will survive more often and reproduce more, passing those genetics down, and thus, over generations, the desirable genetics will have larger market share.\n",
        "\n",
        "The basic setup of a genetic algorithm is largely the same. Given some NP-hard problem, we don't assume to have any intuition about the \"desirable traits\" of a potential solution, so we generate some initial set of candidate solutions randomly. These solutions are a set of valid paths that begin at LAX, visit every node, and don't visit any node more than once*. \n",
        "\n",
        "This set of candidate solutions is called the **population**.\n",
        "\n",
        "Each solution in the population is a **member**.\n",
        "\n",
        "The number of members in a population is the **population size**.\n",
        "\n",
        "Genetic algorithms undergo some specified number of iterations. Each iteration works with its own population (each with the same number of members). In the initial iteration, the members of a population are generated randomly.\n",
        "\n",
        "Once you've generated your initial population, you need to evaluate the quality of each member (i.e. each candidate solution). This metric is called a member's **fitness**.\n",
        "\n",
        "The more fit a member of a population is, the more likely it is to have substructure (i.e. genetic traits) that would improve other solutions (i.e. there may be a 4 node subsequence of that path that is very efficient even if it's a completely random shuffle).\n",
        "\n",
        "Understanding the quality of each solution allows us to refine our strategy for generating new solutions. While the initial population was randomly generated, each member in a subsequent population is assembled as a composite of two members of the preceeding generation. Instead of choosing those two parents randomly, we can incorporate our grading of the current members fitnesses into the selection process and thus pass on preferable \"genes\". \n",
        "\n",
        "Genetic algorithms have heuristics for spawning the next generation's population from the current population:\n",
        "\n",
        "1. Each member of the new generation is the offspring of two member's of the current population. \n",
        "2. More fit members of the current generation are more likely to be selected as parents for the new generation's population members\n",
        "3. After both parents complete encoding a child, that child's genes (i.e. the new solution) may mutate. Mutation is a random event that modifies the child's genes (\"solution\"). In our case, mutation will simply be swapping the positions of two nodes in the child's path (i.e the child's solution) (the indices of those nodes will also be random).\n",
        "4. When creating a child, each parent will pass on at least 1 element (\"gene\") of its solution, but there is no guarantee about the relative concentration of one parent's \"genes\" vs the other parent's \"genes\" in the offspring.**\n",
        "5. Once both are selected, the relative fitness of one parent compared to the other has no weight in determining their share of the child's \"genes\"**\n",
        "6. The order in which parents insert their \"genes\" into the child is random and also agnostic to their relative fitness**\n",
        "\n",
        "The important concepts to understand are the first 3 items of that list. The exact mechanism through which two parents' solutions merge into a child's solution (1) will be explained when you go to implement it (our method isn't that complicated).\n",
        "\n",
        "Mutation is a useful tactic both in evolution and in genetic algorithms. In evolution, mutation helps promote genetic diversity (i.e. so everyone doesn't converge to the same genetic makeup) and can introduce new traits that may be beneficial. In genetic algorithms, it serves an analogous purpose. Over generations, populations can start to converge, where members of a population can become similar and in turn produce a population of increasingly similar offspring in the next generation. If there's no countermeasure for this, your algorithm may converge to a local maxima before exploring much of the state space. Not only can mutation help prevent this, but the initial population that was randomly generated may be concentrated in a small portion of the state space. Injecting noise when creating subsequent populations can be beneficial in that case.\n",
        "\n",
        "\\* The last leg of any path is returning back to LAX but that isn't factored in until later (it'll make sense when you get to that point in the assignment). \n",
        "\n",
        "\\** The last 3 points are implementation details more than conceptually important. It will make more sense once you get there"
      ]
    },
    {
      "cell_type": "markdown",
      "id": "3e511f82",
      "metadata": {
        "id": "3e511f82"
      },
      "source": [
        "## Notebook Overview\n",
        "- Run the first block to import several requirements for this project.\n",
        "    - **typing** is used to provide type annotations to every function you are required to implement. Deviating from the input / output specifications will make it very difficult to then combine the various components at the end and should be avoided\n",
        "    - **random** is the Python language module for random number generation and sampling distributions. We pass a seed to the random number generator so that we can get consistent results and replicate your work. random defaults to the system time without a seed. **Please don't reseed random**\n",
        "    - **unittest** is used to provide a couple unit tests that you can use to check your implementation before integrating it into larger functions. The more substantial, top-level functions don't include unit tests because those are unwieldy to write.\n",
        "    - **utils** includes several class definitions and utility functions we provide for you to use\n",
        "- You can view the implementations of Location, FitnessPair, and ParentPair in **utils.py**. You will use all three so you need to be familiar with them"
      ]
    },
    {
      "cell_type": "code",
      "source": [
        "!wget -q \"https://drive.google.com/uc?export=download&id=1MJAG0spB3vlOF7-0C-G9Zl2SI8qPWl4U\" -O GA_startercode.zip\n",
        "!unzip -qq GA_startercode.zip"
      ],
      "metadata": {
        "id": "Xmmb7_XsnCG5",
        "colab": {
          "base_uri": "https://localhost:8080/"
        },
        "outputId": "474a6427-c32a-421f-bc6e-ae2aa441b057"
      },
      "id": "Xmmb7_XsnCG5",
      "execution_count": 334,
      "outputs": [
        {
          "output_type": "stream",
          "name": "stdout",
          "text": [
            "replace utils.py? [y]es, [n]o, [A]ll, [N]one, [r]ename: y\n",
            "replace input/locations.txt? [y]es, [n]o, [A]ll, [N]one, [r]ename: y\n",
            "replace input/locations2.txt? [y]es, [n]o, [A]ll, [N]one, [r]ename: y\n",
            "replace README.md? [y]es, [n]o, [A]ll, [N]one, [r]ename: y\n",
            "replace input/test_locs.txt? [y]es, [n]o, [A]ll, [N]one, [r]ename: y\n",
            "replace haversine.png? [y]es, [n]o, [A]ll, [N]one, [r]ename: y\n"
          ]
        }
      ]
    },
    {
      "cell_type": "code",
      "execution_count": 335,
      "id": "16226211",
      "metadata": {
        "id": "16226211"
      },
      "outputs": [],
      "source": [
        "from typing import List\n",
        "import random\n",
        "import unittest\n",
        "import numpy as np\n",
        "\n",
        "from utils import Location, FitnessPair, ParentPair\n",
        "\n",
        "random.seed(42)"
      ]
    },
    {
      "cell_type": "markdown",
      "id": "f45738e9",
      "metadata": {
        "id": "f45738e9"
      },
      "source": [
        "## Algorithm Parameters\n",
        "\n",
        "There are 3 major configurable parameters for this algorithm:\n",
        "\n",
        "1. **num_generations** is the number of generations (i.e. number of iterations the algorithm executes, each time creating a new population of candidate solutions). Note: num_generations doesn't count generating the initial population randomly as an iteration\n",
        "2. **population_size** is the size of the population (i.e. number of candidate solutions every generation)\n",
        "3. **mutation_probability** is the probability that a newly created child will be mutated (no more than once per child)\n",
        "\n",
        "**filename** is the relative path to the file with the list of locations. It's a headerless csv file that follows the pattern:\n",
        "\n",
        "Name, Latitude, Longitude\n",
        "\n",
        "with latitude and longitude given in degrees, not radians.\n",
        "\n",
        "If you want to swap in your own file, make sure to follow that convention."
      ]
    },
    {
      "cell_type": "code",
      "execution_count": 336,
      "id": "028199fc",
      "metadata": {
        "id": "028199fc"
      },
      "outputs": [],
      "source": [
        "population_size = 10\n",
        "num_generations = 50\n",
        "mutation_probability = 0.6\n",
        "filename = './input/locations.txt'\n",
        "solution, score = [], None"
      ]
    },
    {
      "cell_type": "markdown",
      "id": "10b5a914",
      "metadata": {
        "id": "10b5a914"
      },
      "source": [
        "## Setup\n",
        "\n",
        "The below cell reads in the locations from the file with the path *filename* and then generates an initial population of size *population_size*. **population** is a list of lists, with each inner list providing a valid solution, traversing all the locations. The path is given as a series of integers, which correspond to indexes in the locations list "
      ]
    },
    {
      "cell_type": "code",
      "execution_count": 337,
      "id": "88565b71",
      "metadata": {
        "id": "88565b71",
        "colab": {
          "base_uri": "https://localhost:8080/"
        },
        "outputId": "f2a4d8bc-bc76-4473-cc62-16e6f7b23e97"
      },
      "outputs": [
        {
          "output_type": "stream",
          "name": "stdout",
          "text": [
            "20\n",
            "[Name: LAX Airport, Latitude: 33.941845, Longitude: -118.408635\n",
            ", Name: Tommy Trojan, Latitude: 34.020547, Longitude: -118.285397\n",
            ", Name: Coliseum, Latitude: 34.014156, Longitude: -118.287923\n",
            ", Name: Chinese Theatre, Latitude: 34.102021, Longitude: -118.340946\n",
            ", Name: Whiskey a Go Go, Latitude: 34.090839, Longitude: -118.385725\n",
            ", Name: Getty Center, Latitude: 34.078062, Longitude: -118.473892\n",
            ", Name: Getty Villa, Latitude: 34.045868, Longitude: -118.56485\n",
            ", Name: Disneyland, Latitude: 33.81211, Longitude: -117.918921\n",
            ", Name: The Huntington Library, Latitude: 34.129178, Longitude: -118.114556\n",
            ", Name: Rose Bowl, Latitude: 34.161373, Longitude: -118.167646\n",
            ", Name: Griffith Observatory, Latitude: 34.118509, Longitude: -118.300414\n",
            ", Name: Hollywood Sign, Latitude: 34.134124, Longitude: -118.321548\n",
            ", Name: Magic Mountain, Latitude: 34.425392, Longitude: -118.59723\n",
            ", Name: Third Street Promenade, Latitude: 34.016297, Longitude: -118.496838\n",
            ", Name: Venice Beach, Latitude: 33.985857, Longitude: -118.473167\n",
            ", Name: Catalina Island, Latitude: 33.394698, Longitude: -118.415119\n",
            ", Name: Staples Center, Latitude: 34.043097, Longitude: -118.267351\n",
            ", Name: Dodger Stadium, Latitude: 34.072744, Longitude: -118.240594\n",
            ", Name: La Brea Tar Pits, Latitude: 34.063814, Longitude: -118.355466\n",
            ", Name: Zuma Beach, Latitude: 34.015489, Longitude: -118.82216\n",
            "]\n",
            "10\n",
            "[0, 15, 14, 5, 10, 6, 16, 18, 7, 13, 17, 11, 2, 12, 3, 19, 8, 9, 1, 4]\n",
            "[0, 15, 9, 4, 12, 11, 17, 2, 13, 6, 19, 3, 1, 5, 10, 16, 8, 14, 7, 18]\n",
            "[0, 15, 14, 19, 6, 11, 3, 5, 10, 7, 2, 16, 8, 17, 1, 13, 9, 18, 12, 4]\n",
            "[0, 1, 13, 16, 11, 9, 19, 12, 6, 17, 5, 7, 15, 4, 14, 18, 10, 8, 2, 3]\n",
            "[0, 13, 12, 14, 10, 19, 15, 2, 1, 16, 4, 9, 11, 5, 7, 17, 18, 8, 6, 3]\n",
            "[0, 10, 1, 2, 15, 9, 13, 6, 14, 4, 12, 5, 3, 8, 18, 17, 16, 19, 11, 7]\n",
            "[0, 14, 8, 10, 6, 19, 9, 4, 15, 7, 12, 11, 18, 2, 1, 13, 3, 16, 17, 5]\n",
            "[0, 17, 10, 14, 12, 16, 15, 19, 8, 3, 7, 5, 2, 6, 11, 13, 9, 4, 1, 18]\n",
            "[0, 2, 4, 11, 16, 14, 18, 19, 8, 15, 1, 12, 9, 3, 13, 6, 5, 7, 17, 10]\n",
            "[0, 15, 7, 1, 4, 6, 5, 12, 10, 19, 11, 17, 9, 13, 2, 14, 16, 18, 3, 8]\n"
          ]
        }
      ],
      "source": [
        "from utils import generate_initial_population, parse_locations\n",
        "\n",
        "# you can print both of these for clarity if you want\n",
        "\n",
        "locations = parse_locations(filename) # List[Location]\n",
        "print(len(locations))\n",
        "print(locations)\n",
        "\n",
        "population = generate_initial_population(population_size, len(locations)) # List[List[int]]\n",
        "print(len(population))\n",
        "for i in population:\n",
        "  print(i)\n",
        "  # print(len(i))"
      ]
    },
    {
      "cell_type": "markdown",
      "id": "782a52d0",
      "metadata": {
        "id": "782a52d0"
      },
      "source": [
        "## Fitness\n",
        "\n",
        "For fitness, we will use the Haversine distance formula to compute the distance between each step on the path:\n",
        "\n",
        "$ 𝛿 lon = lon_{2} - lon_{1} $\n",
        "\n",
        "$ 𝛿 lat = lat_{2} - lat_{1} $\n",
        "\n",
        "$ a = (sin(\\frac{𝛿 lat}{2}))^{2} + cos(lat_{1}) cos(lat_{2}) (sin(\\frac{𝛿 lon}{2}))^{2} $\n",
        "\n",
        "$ c = 2 \\times atan2(\\sqrt{a}, \\sqrt{1-a}) $\n",
        "\n",
        "$ distance = 3961 c $\n",
        "\n",
        "**Important Note**: The latitude and longitude values provided by the input file are in degrees, not radians, but this formula requires radians. The convenience function *convert_to_radians* is provided to you. Refer to **utils.py** for details on usage"
      ]
    },
    {
      "cell_type": "code",
      "execution_count": 338,
      "id": "3fca490d",
      "metadata": {
        "id": "3fca490d"
      },
      "outputs": [],
      "source": [
        "from utils import convert_to_radians\n",
        "import math # Will be required to implement calculate_haversine_distance\n",
        "\n",
        "def calculate_haversine_distance(loc_1: Location, loc_2: Location) -> float:\n",
        "    \n",
        "    # Converting the values of latitudes and longitudes from degrees to radians\n",
        "    loc_rad_1 = convert_to_radians(loc_1)\n",
        "    loc_rad_2 = convert_to_radians(loc_2)\n",
        "    \n",
        "    # Computing the distance between each step using Haversine distance formula\n",
        "    lon_dist = loc_rad_2.longitude - loc_rad_1.longitude\n",
        "    lat_dist = loc_rad_2.latitude - loc_rad_1.latitude\n",
        "    a = (np.sin(lat_dist/2))**2 + (np.cos(loc_rad_1.latitude)*np.cos(loc_rad_2.latitude)*(np.sin(lon_dist/2))**2)\n",
        "    c = 2*(math.atan2(np.sqrt(a), np.sqrt(1-a)))\n",
        "    distance = 3961*c\n",
        "    \n",
        "    return distance"
      ]
    },
    {
      "cell_type": "markdown",
      "id": "a0ea8b6c",
      "metadata": {
        "id": "a0ea8b6c"
      },
      "source": [
        "You can verify your implementation of the haversine distance function by running the cell below"
      ]
    },
    {
      "cell_type": "code",
      "execution_count": 339,
      "id": "94da078d",
      "metadata": {
        "scrolled": false,
        "id": "94da078d",
        "colab": {
          "base_uri": "https://localhost:8080/"
        },
        "outputId": "306609db-5ca6-402b-9da8-7c0678456c30"
      },
      "outputs": [
        {
          "output_type": "stream",
          "name": "stderr",
          "text": [
            "....\n",
            "----------------------------------------------------------------------\n",
            "Ran 4 tests in 0.015s\n",
            "\n",
            "OK\n"
          ]
        },
        {
          "output_type": "stream",
          "name": "stdout",
          "text": [
            "[Name: JFK Airport, Latitude: 40.642523, Longitude: -73.778216\n",
            ", Name: Empire State Building, Latitude: 40.748522, Longitude: -73.985505\n",
            ", Name: Times Square, Latitude: 40.758871, Longitude: -73.985056\n",
            ", Name: Yankee Stadium, Latitude: 40.82961, Longitude: -73.926164\n",
            ", Name: Long Beach Boardwalk, Latitude: 40.583162, Longitude: -73.660001\n",
            ", Name: Statue of Liberty, Latitude: 40.689282, Longitude: -74.044533\n",
            "]\n"
          ]
        }
      ],
      "source": [
        "class TestHaversine(unittest.TestCase):\n",
        "    def setUp(self):\n",
        "        self.location_1 = Location(\"test1\", 40.0, 50.0)\n",
        "        self.location_2 = Location(\"test2\", 20.0, 30.0)\n",
        "        \n",
        "    def test_calculate_haversine_distance_same_location(self):\n",
        "        self.assertEqual(0.0, calculate_haversine_distance(self.location_1, self.location_1))\n",
        "\n",
        "    def test_calculate_haversine_distance_different_locations(self):\n",
        "        answer = calculate_haversine_distance(self.location_1, self.location_2)\n",
        "        self.assertEqual(1820.0246, round(answer, 4))\n",
        "        \n",
        "if __name__ == '__main__':\n",
        "    unittest.main(argv=['first-arg-is-ignored'], exit=False)"
      ]
    },
    {
      "cell_type": "markdown",
      "id": "38dee87f",
      "metadata": {
        "id": "38dee87f"
      },
      "source": [
        "Calculate the fitness of a population member by computing the haversine distance between each stop on the path. Don't forget to include the distance from the last location on the path back to LAX to complete the cycle"
      ]
    },
    {
      "cell_type": "code",
      "execution_count": 340,
      "id": "99adb799",
      "metadata": {
        "id": "99adb799"
      },
      "outputs": [],
      "source": [
        "def calculate_member_fitness(pop_member: List[int], locs: List[Location]) -> float:\n",
        "    \n",
        "    # Initializing fitness variable to zero\n",
        "    fitness = 0\n",
        "\n",
        "    # Calculating the fitness by computing the haversine distance\n",
        "    for i in range(len(pop_member)-1):\n",
        "      locs_1 = locs[pop_member[i]]\n",
        "      locs_2 = locs[pop_member[i+1]]\n",
        "      fitness += calculate_haversine_distance(locs_1, locs_2)\n",
        "\n",
        "    # Adding the distance from the last location on the path back to LAX\n",
        "    loc_final = locs[pop_member[-1]]\n",
        "    loc_lax = locs[pop_member[0]]\n",
        "    fitness += calculate_haversine_distance(loc_final, loc_lax)\n",
        "    return fitness\n",
        "\n",
        "\n",
        "# h_d = calculate_member_fitness([2,1,0,3,5,4], locations)\n",
        "# print(h_d)"
      ]
    },
    {
      "cell_type": "code",
      "execution_count": 341,
      "id": "ac3ab446",
      "metadata": {
        "id": "ac3ab446",
        "colab": {
          "base_uri": "https://localhost:8080/"
        },
        "outputId": "d99bbd12-2cce-48a9-8233-4835b6d03348"
      },
      "outputs": [
        {
          "output_type": "stream",
          "name": "stderr",
          "text": [
            "....\n",
            "----------------------------------------------------------------------\n",
            "Ran 4 tests in 0.011s\n",
            "\n",
            "OK\n"
          ]
        },
        {
          "output_type": "stream",
          "name": "stdout",
          "text": [
            "[Name: JFK Airport, Latitude: 40.642523, Longitude: -73.778216\n",
            ", Name: Empire State Building, Latitude: 40.748522, Longitude: -73.985505\n",
            ", Name: Times Square, Latitude: 40.758871, Longitude: -73.985056\n",
            ", Name: Yankee Stadium, Latitude: 40.82961, Longitude: -73.926164\n",
            ", Name: Long Beach Boardwalk, Latitude: 40.583162, Longitude: -73.660001\n",
            ", Name: Statue of Liberty, Latitude: 40.689282, Longitude: -74.044533\n",
            "]\n"
          ]
        }
      ],
      "source": [
        "class TestMemberFitness(unittest.TestCase):\n",
        "    def setUp(self):\n",
        "        self.locations = parse_locations('./input/test_locs.txt')\n",
        "        print(self.locations)\n",
        "        self.member = [2,1,0,3,5,4]\n",
        "        \n",
        "    def test_calculate_member_fitness(self):\n",
        "        self.assertEqual(82.8071, round(calculate_member_fitness(self.member, self.locations), 4))\n",
        "        \n",
        "if __name__ == '__main__':\n",
        "    unittest.main(argv=['first-arg-is-ignored'], exit=False)"
      ]
    },
    {
      "cell_type": "markdown",
      "id": "a33c81bf",
      "metadata": {
        "id": "a33c81bf"
      },
      "source": [
        "Implement the following function which should compute the fitness of each member of the population. \n",
        "\n",
        "The output should be a list of FitnessPairs. The FitnessPair id corresponds to the index of that member in the population list, and the FitnessPair fitness is that member's fitness score. We use this data structure because later we will sort by fitness but you'll still need to know which member of the population a score corresponds to.\n",
        "\n",
        "Before you return this list, sort it so that FitnessPair with the best fitness score is at the front. Remember that a **low** fitness score is a good one, so you'd return a list with scores in **ascending** order"
      ]
    },
    {
      "cell_type": "code",
      "execution_count": 342,
      "id": "50a59be0",
      "metadata": {
        "id": "50a59be0",
        "colab": {
          "base_uri": "https://localhost:8080/"
        },
        "outputId": "3f52f5fa-9752-453c-da6c-bb19ce4de992"
      },
      "outputs": [
        {
          "output_type": "stream",
          "name": "stdout",
          "text": [
            "[Id: 2, Fitness: 342.17017839319385\n",
            ", Id: 9, Fitness: 353.16482511399755\n",
            ", Id: 6, Fitness: 358.7427837283882\n",
            ", Id: 3, Fitness: 368.39119713767565\n",
            ", Id: 1, Fitness: 369.0612517242774\n",
            ", Id: 5, Fitness: 379.4892249576533\n",
            ", Id: 4, Fitness: 380.8478677230554\n",
            ", Id: 8, Fitness: 391.0149362352388\n",
            ", Id: 0, Fitness: 393.47652141661274\n",
            ", Id: 7, Fitness: 424.02258279724447\n",
            "]\n"
          ]
        }
      ],
      "source": [
        "def calculate_population_fitness(population: List[List[int]], locs: List[Location]) -> List[FitnessPair]:\n",
        "    # Creating an empty list for Fitness Pairs\n",
        "    Fitness_Pairs = []\n",
        "\n",
        "    # Computing member fitness and appending it to the list\n",
        "    for i in range(len(population)):\n",
        "      fitness = calculate_member_fitness(population[i], locations)\n",
        "      Fitness_Pairs.append(FitnessPair(i, fitness))\n",
        "\n",
        "    # Sort the list on the basis of Fitness values\n",
        "    Fitness_Pairs.sort()\n",
        "\n",
        "    return Fitness_Pairs\n",
        "\n",
        "FP = calculate_population_fitness(population, locations) \n",
        "print(FP)    \n"
      ]
    },
    {
      "cell_type": "markdown",
      "id": "01fa63c7",
      "metadata": {
        "id": "01fa63c7"
      },
      "source": [
        "## Selection\n",
        "\n",
        "Now that we've computed the fitness of each member of the population and sorted the results, we can implement a strategy for selecting parents with better genetics (i.e. solutions) to produce more \"fit\" children in the next generation.\n",
        "\n",
        "Parent selection is probabilistic, but we will tilt the odds to favor the fitter members of the population. \n",
        "\n",
        "The following function, *generate_fitness_probability_vector*, takes the list returned from the previous function and uses it to assign a probability to each population member (the probability they will be selected on any given parent selection event). \n",
        "\n",
        "Implement the following:\n",
        "1. Create a list with size n = # of population members and assign each element in the list to 1.0/n, giving a uniform distribution\n",
        "2. Note that the indices in this vector should correspond to the individual’s population index number (so this most will likely not be sorted by fitness). The first element corresponds to the first population member, not the member with the best fitness score (unless that is the first population member)\n",
        "3. The two individuals with the highest fitness scores should have their probability multiplied by 6.0.\n",
        "4. The remainder of the top half of the fit individuals (eg. from rank 2 to rank size / 2 – 1) should have their probability multiplied by 3.0.\n",
        "5. Note that step 4 is rounding down. For example, if the population had 7 members, the two most fit would be multiplied by 6 and the third most fit multiplied by 3 BUT NOT THE FOURTH\n",
        "6. Renormalize the probability vector to sum to 1\n",
        "7. Return the normalized vector (referred to subsequently as **fitness_probs**)"
      ]
    },
    {
      "cell_type": "code",
      "execution_count": 355,
      "id": "740ed094",
      "metadata": {
        "id": "740ed094",
        "colab": {
          "base_uri": "https://localhost:8080/"
        },
        "outputId": "97833e61-d9c7-4ca5-81ff-300cab25c980"
      },
      "outputs": [
        {
          "output_type": "stream",
          "name": "stdout",
          "text": [
            "[0.23076923076923078, 0.038461538461538464, 0.038461538461538464, 0.038461538461538464, 0.11538461538461539, 0.11538461538461539, 0.038461538461538464, 0.23076923076923078, 0.11538461538461539, 0.038461538461538464]\n"
          ]
        }
      ],
      "source": [
        "def generate_fitness_probability_vector(population_fitness: List[FitnessPair]) -> List[float]:\n",
        "\n",
        "    # Creating a vector/list with size of number of population members\n",
        "    n = len(population_fitness)\n",
        "    Probability_vector = [1] * n\n",
        "\n",
        "    # Computing the probability values for the vector\n",
        "    for i in range(len(Probability_vector)):\n",
        "      value = 1/n\n",
        "      Probability_vector[i] = value\n",
        "    \n",
        "    # Multiplying the top two member's with highest fitness score probability with 6.0\n",
        "    first_elem_id = (population_fitness[0].id)\n",
        "    second_elem_id = (population_fitness[1].id)\n",
        "    Probability_vector[first_elem_id] *= 6.0\n",
        "    Probability_vector[second_elem_id] *= 6.0\n",
        "\n",
        "    # Multiplying the member's in the remaining top half of fitness score probability with 3.0\n",
        "    for j in range(2, n//2):\n",
        "      elem_id = (population_fitness[j].id)\n",
        "      Probability_vector[elem_id] *= 3.0\n",
        "    # print(Probability_vector)\n",
        "\n",
        "\n",
        "    # normalizing the probability vector\n",
        "    vector_sum = sum(Probability_vector)\n",
        "    for i in range(len(Probability_vector)):\n",
        "      Probability_vector[i] = Probability_vector[i]/vector_sum\n",
        "\n",
        "    return Probability_vector\n",
        "\n",
        "# Reversing the fitness pair list for easy access\n",
        "FP.reverse()\n",
        "prob_vec = generate_fitness_probability_vector(FP)\n",
        "print(prob_vec)"
      ]
    },
    {
      "cell_type": "markdown",
      "id": "4a63e8a4",
      "metadata": {
        "id": "4a63e8a4"
      },
      "source": [
        "You can verify your implementation of the generate_fitness_probability_vector function by running the cell below"
      ]
    },
    {
      "cell_type": "code",
      "execution_count": 356,
      "id": "2ad49d74",
      "metadata": {
        "id": "2ad49d74",
        "colab": {
          "base_uri": "https://localhost:8080/"
        },
        "outputId": "6bbdbb84-1fe4-4ebe-d1d1-7be449d68835"
      },
      "outputs": [
        {
          "output_type": "stream",
          "name": "stderr",
          "text": [
            "....\n",
            "----------------------------------------------------------------------\n",
            "Ran 4 tests in 0.012s\n",
            "\n",
            "OK\n"
          ]
        },
        {
          "output_type": "stream",
          "name": "stdout",
          "text": [
            "[Name: JFK Airport, Latitude: 40.642523, Longitude: -73.778216\n",
            ", Name: Empire State Building, Latitude: 40.748522, Longitude: -73.985505\n",
            ", Name: Times Square, Latitude: 40.758871, Longitude: -73.985056\n",
            ", Name: Yankee Stadium, Latitude: 40.82961, Longitude: -73.926164\n",
            ", Name: Long Beach Boardwalk, Latitude: 40.583162, Longitude: -73.660001\n",
            ", Name: Statue of Liberty, Latitude: 40.689282, Longitude: -74.044533\n",
            "]\n"
          ]
        }
      ],
      "source": [
        "class TestFitnessProbabilityVector(unittest.TestCase):\n",
        "    def setUp(self):\n",
        "        self.test_input = []\n",
        "        self.test_input.append(FitnessPair(2,  60.02))\n",
        "        self.test_input.append(FitnessPair(1,  60.23))\n",
        "        self.test_input.append(FitnessPair(0,  63.90))\n",
        "        self.test_input.append(FitnessPair(5,  77.38))\n",
        "        self.test_input.append(FitnessPair(4,  78.22))\n",
        "        self.test_input.append(FitnessPair(3,  81.43))\n",
        "        self.ground_truth = [0.167, 0.333, 0.333, 0.056, 0.056, 0.056]\n",
        "        \n",
        "    def test_generate_fitness_probability_vector_(self):\n",
        "        answer = generate_fitness_probability_vector(self.test_input)\n",
        "        for i in range(6):\n",
        "            self.assertEqual(self.ground_truth[i], round(answer[i], 3))\n",
        "        \n",
        "if __name__ == '__main__':\n",
        "    unittest.main(argv=['first-arg-is-ignored'], exit=False)"
      ]
    },
    {
      "cell_type": "markdown",
      "id": "6a03ddd7",
      "metadata": {
        "id": "6a03ddd7"
      },
      "source": [
        "Now we will use this distribution, **fitness_probs**, to select a single parent. First, lets consider this hypothetical input vector:\n",
        "\n",
        "[.1, .4, .1, .4]\n",
        "\n",
        "What this input translates to is that the population member at index 0 has a 10% chance of being selected, the population member at index 1 has a 40% chance of being selected, the population member at index 2 has a 10% chance of being selected, and the population member at index 3 has a 40% chance of being selected.\n",
        "\n",
        "**select_parent** will randomly select an index, and the population member at that index will be the selected parent.\n",
        "\n",
        "First, select_parent should generate a random float between 0 and 1\n",
        "\n",
        "The algorithm for picking an index is simple. Starting at index 0, you perform a running sum of\n",
        "the probability. If at any index, the running sum becomes >= the random float, you select that\n",
        "individual.\n",
        "\n",
        "For example, suppose the random double is 0.55. So:\n",
        "- At index 0, running sum = 0.10, continue\n",
        "- At index 1, running sum = 0.50, continue\n",
        "- At index 2, running sum = 0.60, >= 0.55, so select index 2\n",
        "\n",
        "So in the above example, the following ranges of random values would select each individual:\n",
        "- Individual 0 = [0, 0.10]\n",
        "- Individual 1 = (0.10, 0.50]\n",
        "- Individual 2 = (0.50, 0.60]\n",
        "- Individual 3 = (0.60, 1.00]"
      ]
    },
    {
      "cell_type": "code",
      "execution_count": 357,
      "id": "f120827f",
      "metadata": {
        "scrolled": true,
        "id": "f120827f"
      },
      "outputs": [],
      "source": [
        "def select_parent(fitness_probs: List[float]) -> int:\n",
        "\n",
        "    # Selecting a ranom float value between 0 & 1\n",
        "    random_value = random.random()\n",
        "    running_sum = 0\n",
        "\n",
        "    # Selecting random index based on the random_value and running_sum\n",
        "    for index in range(len(fitness_probs)):\n",
        "      running_sum += fitness_probs[index]\n",
        "      if running_sum >= random_value:\n",
        "        return index\n",
        "    return\n",
        "\n",
        "P = select_parent(prob_vec)\n",
        "# print(P)"
      ]
    },
    {
      "cell_type": "markdown",
      "id": "adcd6f98",
      "metadata": {
        "id": "adcd6f98"
      },
      "source": [
        "Taking the output from *generate_fitness_probability_vector*, **fitness_probs**, as input, we need to select *n* pairs of parents, where *n* is the size of the population. These *n* pairs of parents will then be used to create the next generation's *n* population members.\n",
        "\n",
        "This function should return a list of ParentPair (a class defined in utils). Each parent in a pair should be selected independently (i.e. using its own random float threshold."
      ]
    },
    {
      "cell_type": "code",
      "execution_count": 358,
      "id": "4aa71f2b",
      "metadata": {
        "id": "4aa71f2b"
      },
      "outputs": [],
      "source": [
        "def select_parents(fitness_probs: List[float]) -> List[ParentPair]:\n",
        "\n",
        "    # Creating an empty list for parent pairs\n",
        "    Parent_Pairs = []\n",
        "\n",
        "    # Finding the parent pairs based on the probability vector\n",
        "    for i in range(len(fitness_probs)):\n",
        "      parent_1 = select_parent(fitness_probs)\n",
        "      parent_2 = select_parent(fitness_probs)\n",
        "      parent_element = ParentPair(parent_1, parent_2)\n",
        "      Parent_Pairs.append(parent_element)\n",
        "    return Parent_Pairs\n",
        "\n",
        "parent_pairs = select_parents(prob_vec)\n",
        "# print(parent_pairs)"
      ]
    },
    {
      "cell_type": "markdown",
      "id": "3ba1d828",
      "metadata": {
        "id": "3ba1d828"
      },
      "source": [
        "## Crossover\n",
        "\n",
        "The crossover function takes two parent population members (each is a list of ints from the population 2d list) and create a child population member. The float mutation_prob [0.0,1.0] is the probability of doing a mutation on that child population member.\n",
        "\n",
        "Implement the following crossover procedure:\n",
        "1. Generate a random crossover index value from [1, size –2]\n",
        "2. Generate a random 0 or 1 (simulate a coin toss). If it’s a 1, parent_pop_1 goes first. If it’s a 0, parent_pop_2 goes first.\n",
        "3. Selected first parent will copy all elements from beginning up to and including crossover index into child\n",
        "4. Second parent will start at the beginning (of its list, not the childs), and append all elements that don’t already appear in the child\n",
        "5. Generate a random float, *x*, between 0 and 1\n",
        "6. If *x* <= mutation_prob, then mutate. If *x* > mutation_prob, don't mutate\n",
        "\n",
        "Implement the following mutation procedure:\n",
        "1. Generate a random int *a* [1, size-1]\n",
        "2. Generate a random int *b* [1, size-1]\n",
        "3. Swap the elements at those two indices in the child population\n",
        "\n",
        "**Note**: You may find it helpful to add a helper function or two to avoid repeated code / improve readability. If you choose to do so, you can either create additional cells or include them in the **crossover** cell"
      ]
    },
    {
      "cell_type": "code",
      "execution_count": 359,
      "id": "0c82b291",
      "metadata": {
        "id": "0c82b291"
      },
      "outputs": [],
      "source": [
        "def crossover(parent_pop_1: List[int], parent_pop_2: List[int], mutation_prob: float) -> List[int]:\n",
        "\n",
        "    # Initializing size with the len of the parent_population\n",
        "    size = len(parent_pop_1)\n",
        "\n",
        "    # Selecting a random integer\n",
        "    rand_crossover_val = random.randint(1, size-2)\n",
        "    # print(rand_crossover_val)\n",
        "\n",
        "    # To randomly initialize the child node by selecting another random integer between 0 & 1\n",
        "    if random.randint(0,1) == 0:\n",
        "      parent_one = parent_pop_2\n",
        "      parent_two = parent_pop_1\n",
        "    else:\n",
        "      parent_one = parent_pop_1\n",
        "      parent_two = parent_pop_2\n",
        "    # print(parent_one)\n",
        "    # print(parent_two)\n",
        "    # print('-----')\n",
        "\n",
        "    # Initializing child node with parent_one values upto index of random integer selected at first +1\n",
        "    child_node = parent_one[:rand_crossover_val+1]\n",
        "    # print(child_node)\n",
        "    # print('********')\n",
        "\n",
        "    # Adding the members in parent_two which is not in child_node\n",
        "    for item in parent_two:\n",
        "      if item not in child_node:\n",
        "        child_node.append(item)\n",
        "    # print(child_node)\n",
        "\n",
        "    # Implementing mutation\n",
        "    x = random.random()\n",
        "    if x <= mutation_prob:\n",
        "      child_size = len(child_node)\n",
        "\n",
        "      #Selecting two random integers\n",
        "      rand_int_1 = random.randint(1, child_size-1)\n",
        "      rand_int_2 = random.randint(1, child_size-1)\n",
        "\n",
        "      # Swapping two members\n",
        "      temp = child_node[rand_int_1]\n",
        "      child_node[rand_int_1] = child_node[rand_int_2]\n",
        "      child_node[rand_int_2] = temp\n",
        "      return child_node\n",
        "\n",
        "    else:\n",
        "      return child_node\n",
        "    return\n",
        "\n",
        "\n",
        "\n",
        "# for i in parent_pairs:\n",
        "#   # print(i.first)\n",
        "#   child = crossover(population[i.first], population[i.second], mutation_probability)\n",
        "#   print(child)"
      ]
    },
    {
      "cell_type": "markdown",
      "id": "4db0c754",
      "metadata": {
        "id": "4db0c754"
      },
      "source": [
        "The generate_new_population function takes the current population, the list of parent pairs, and the mutation probability as input to generate a new population for the next generation of the algorithm. It does so by iterating over the list of parent pairs, looking up their corresponding entries in the population, and then spawning a child population member with crossover"
      ]
    },
    {
      "cell_type": "code",
      "execution_count": 360,
      "id": "6a238705",
      "metadata": {
        "id": "6a238705"
      },
      "outputs": [],
      "source": [
        "def generate_new_population(population: List[List[int]], parent_selections: List[ParentPair], mutation_prob: float) -> List[List[int]]:\n",
        "    \n",
        "    # Generation of new population based on the created child nodes\n",
        "    new_pop = []\n",
        "    for i in parent_selections:\n",
        "      child = crossover(population[i.first], population[i.second], mutation_probability)\n",
        "      new_pop.append(child)\n",
        "    return new_pop\n",
        "\n",
        "new_population = generate_new_population(population, parent_pairs, mutation_probability)\n",
        "# for i in new_population:\n",
        "#   print(i)"
      ]
    },
    {
      "cell_type": "markdown",
      "id": "05954de0",
      "metadata": {
        "id": "05954de0"
      },
      "source": [
        "## Genetic Algorithm\n",
        "\n",
        "Using some subset of the functions you've implemented above, fill in the parts of the algorithm marked TODO.\n",
        "\n",
        "**Note**: Make sure that you've run all previous cells before running the below cell to ensure that every function the genetic algorithm needs is available"
      ]
    },
    {
      "cell_type": "code",
      "execution_count": 361,
      "id": "5c8a38eb",
      "metadata": {
        "id": "5c8a38eb",
        "colab": {
          "base_uri": "https://localhost:8080/"
        },
        "outputId": "c25bed3f-7e5e-47e0-c31c-3f3e9e014c01"
      },
      "outputs": [
        {
          "output_type": "stream",
          "name": "stdout",
          "text": [
            "Success!\n",
            "Score:  424.02258279724447\n",
            "Solution:  [Name: LAX Airport, Latitude: 33.941845, Longitude: -118.408635\n",
            ", Name: Dodger Stadium, Latitude: 34.072744, Longitude: -118.240594\n",
            ", Name: Griffith Observatory, Latitude: 34.118509, Longitude: -118.300414\n",
            ", Name: Venice Beach, Latitude: 33.985857, Longitude: -118.473167\n",
            ", Name: Magic Mountain, Latitude: 34.425392, Longitude: -118.59723\n",
            ", Name: Staples Center, Latitude: 34.043097, Longitude: -118.267351\n",
            ", Name: Catalina Island, Latitude: 33.394698, Longitude: -118.415119\n",
            ", Name: Zuma Beach, Latitude: 34.015489, Longitude: -118.82216\n",
            ", Name: The Huntington Library, Latitude: 34.129178, Longitude: -118.114556\n",
            ", Name: Chinese Theatre, Latitude: 34.102021, Longitude: -118.340946\n",
            ", Name: Disneyland, Latitude: 33.81211, Longitude: -117.918921\n",
            ", Name: Getty Center, Latitude: 34.078062, Longitude: -118.473892\n",
            ", Name: Coliseum, Latitude: 34.014156, Longitude: -118.287923\n",
            ", Name: Getty Villa, Latitude: 34.045868, Longitude: -118.56485\n",
            ", Name: Hollywood Sign, Latitude: 34.134124, Longitude: -118.321548\n",
            ", Name: Third Street Promenade, Latitude: 34.016297, Longitude: -118.496838\n",
            ", Name: Rose Bowl, Latitude: 34.161373, Longitude: -118.167646\n",
            ", Name: Whiskey a Go Go, Latitude: 34.090839, Longitude: -118.385725\n",
            ", Name: Tommy Trojan, Latitude: 34.020547, Longitude: -118.285397\n",
            ", Name: La Brea Tar Pits, Latitude: 34.063814, Longitude: -118.355466\n",
            "]\n"
          ]
        }
      ],
      "source": [
        "from utils import validate_solution\n",
        "\n",
        "for i in range(num_generations+1):\n",
        "    # TODO: Calculate population fitnesses\n",
        "\n",
        "    FP = calculate_population_fitness(population, locations) \n",
        "    # print(FP)   \n",
        "\n",
        "    # continue iterating with GA\n",
        "    if i != num_generations:\n",
        "        # TODO: Get fitness probability vectors\n",
        "\n",
        "        PV = generate_fitness_probability_vector(FP)\n",
        "        # print(PV)\n",
        "        \n",
        "        # TODO: Get parent selections\n",
        "        selected_parent = select_parent(PV)\n",
        "        # TODO: Generate new population\n",
        "        new_population = generate_new_population(population, parent_pairs, mutation_probability)\n",
        "\n",
        "    else:\n",
        "      # Choose the top result in the population fitnesses list as your solution\n",
        "      # TODO: Retrieve that solution from the population along with its fitness score\n",
        "      # print(FP[-1].id)\n",
        "      solution, score = population[FP[-1].id], FP[-1].fitness\n",
        "      # Check if solution is valid\n",
        "      is_valid_solution = validate_solution(solution, score, locations)\n",
        "      if is_valid_solution:\n",
        "          print('Success!')\n",
        "          print('Score: ', score)\n",
        "          solution_locs = [locations[i] for i in solution]\n",
        "          print('Solution: ', solution_locs)\n",
        "      else:\n",
        "          print('Solution invalid')"
      ]
    }
  ],
  "metadata": {
    "celltoolbar": "Raw Cell Format",
    "kernelspec": {
      "display_name": "Python 3.8.10 64-bit",
      "language": "python",
      "name": "python3"
    },
    "language_info": {
      "codemirror_mode": {
        "name": "ipython",
        "version": 3
      },
      "file_extension": ".py",
      "mimetype": "text/x-python",
      "name": "python",
      "nbconvert_exporter": "python",
      "pygments_lexer": "ipython3",
      "version": "3.8.10"
    },
    "vscode": {
      "interpreter": {
        "hash": "31f2aee4e71d21fbe5cf8b01ff0e069b9275f58929596ceb00d14d90e3e16cd6"
      }
    },
    "colab": {
      "provenance": []
    }
  },
  "nbformat": 4,
  "nbformat_minor": 5
}